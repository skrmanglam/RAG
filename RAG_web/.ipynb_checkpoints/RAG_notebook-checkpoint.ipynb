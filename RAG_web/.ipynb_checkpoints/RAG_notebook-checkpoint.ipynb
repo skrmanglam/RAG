{
 "cells": [
  {
   "cell_type": "code",
   "execution_count": 102,
   "id": "c8f8a14b-8fcd-424b-88ef-3f29f3cc56d2",
   "metadata": {},
   "outputs": [],
   "source": [
    "# Matching dependencies\n",
    "\n",
    "#Upgrading to latest version of Langchain\n",
    "#!pip install langchain -U\n",
    "#!pip install langchain-openai\n",
    "#!pip install tqdm\n",
    "#!pip install --upgrade --quiet  langchain-core langchain-google-vertexai\n",
    "#!pip install streamlit -U\n",
    "#pip install -U langchain-google-genai\n",
    "#!pip install --upgrade --quiet  langchain-google-genai pillow\n",
    "#%pip install --upgrade --quiet huggingface_hub\n",
    "\n",
    "#*****Using Open AI*******\n",
    "#os.environ[\"OPENAI_API_KEY\"] = \"\"\n",
    "# from langchain_openai import OpenAI\n",
    "# llm = OpenAI()\n",
    "\n",
    "\n",
    "#******Using Google GenAI>>>Gemini-pro*******\n",
    "# if \"GOOGLE_API_KEY\" not in os.environ:\n",
    "# os.environ[\"GOOGLE_API_KEY\"] = getpass.getpass(\"\")\n",
    "# os.environ[\"GOOGLE_API_KEY\"] = \"\"\n",
    "#from langchain_google_genai import ChatGoogleGenerativeAI\n",
    "# llm = ChatGoogleGenerativeAI(model=\"gemini-pro\")\n",
    "# result = llm.invoke(\"Write a ballad about LangChain\")\n",
    "# print(result.content)\n",
    "\n",
    "#******Using Google VertexAI*******\n",
    "#from langchain_google_vertexai import VertexAI\n",
    "#model = VertexAI(model_name=\"gemini-pro\")\n",
    "\n"
   ]
  },
  {
   "cell_type": "code",
   "execution_count": 9,
   "id": "4f50870d-4b07-41c4-9ca3-df199f9dd226",
   "metadata": {},
   "outputs": [],
   "source": [
    "# Using HuggingFace GenAI\n",
    "\n",
    "# Place the Hugging face API token here, do not change the name of the env. var\n",
    "import os\n",
    "os.environ[\"HUGGINGFACEHUB_API_TOKEN\"]= \"\""
   ]
  },
  {
   "cell_type": "code",
   "execution_count": 10,
   "id": "4c17f4a9-33d9-4198-a0f4-1a29b2efceca",
   "metadata": {},
   "outputs": [],
   "source": [
    "# using the HuggingFaceEndpoint API from Langchain\n",
    "from langchain_community.llms import HuggingFaceEndpoint"
   ]
  },
  {
   "cell_type": "code",
   "execution_count": 11,
   "id": "4dd71786-539c-4852-a407-3b4362c3e153",
   "metadata": {},
   "outputs": [],
   "source": [
    "# Importing chains and prompts from langchain\n",
    "from langchain.chains import LLMChain\n",
    "from langchain.prompts import PromptTemplate"
   ]
  },
  {
   "cell_type": "code",
   "execution_count": 12,
   "id": "229b20b4-2a14-416d-9162-518ed370a2a1",
   "metadata": {},
   "outputs": [],
   "source": [
    "# Sample question and template to test out the answer\n",
    "\n",
    "question = \"Who won the FIFA World Cup in the year 1994? \"\n",
    "\n",
    "template = \"\"\"Question: {question}\n",
    "\n",
    "Answer: Let's think step by step.\"\"\"\n",
    "\n",
    "prompt = PromptTemplate.from_template(template)"
   ]
  },
  {
   "cell_type": "code",
   "execution_count": 13,
   "id": "bfcb0903-e665-4595-88f6-347a555a879d",
   "metadata": {},
   "outputs": [
    {
     "name": "stderr",
     "output_type": "stream",
     "text": [
      "WARNING! max_length is not default parameter.\n",
      "                    max_length was transferred to model_kwargs.\n",
      "                    Please make sure that max_length is what you intended.\n",
      "WARNING! token is not default parameter.\n",
      "                    token was transferred to model_kwargs.\n",
      "                    Please make sure that token is what you intended.\n"
     ]
    },
    {
     "name": "stdout",
     "output_type": "stream",
     "text": [
      "Token will not been saved to git credential helper. Pass `add_to_git_credential=True` if you want to set the git credential as well.\n",
      "Token is valid (permission: read).\n",
      "Your token has been saved to C:\\Users\\skrma\\.cache\\huggingface\\token\n",
      "Login successful\n"
     ]
    },
    {
     "name": "stderr",
     "output_type": "stream",
     "text": [
      "C:\\Users\\skrma\\anaconda3\\envs\\langchain\\Lib\\site-packages\\langchain_core\\_api\\deprecation.py:117: LangChainDeprecationWarning: The function `run` was deprecated in LangChain 0.1.0 and will be removed in 0.2.0. Use invoke instead.\n",
      "  warn_deprecated(\n"
     ]
    },
    {
     "name": "stdout",
     "output_type": "stream",
     "text": [
      " The FIFA World Cup is an international soccer tournament that takes place every four years. The 1994 FIFA World Cup was held in the United States from June 17 to July 17, 1994. The final match was played on July 17, 1994. Brazil won the tournament, defeating Italy in the final with a score of 0-0 (3-2 in the penalty shootout). Therefore, Brazil won the FIFA World Cup in the year 1994.\n"
     ]
    }
   ],
   "source": [
    "# Using Mistral 7B as LLM of choice\n",
    "\n",
    "repo_id = \"mistralai/Mistral-7B-Instruct-v0.2\"\n",
    "\n",
    "llm = HuggingFaceEndpoint(\n",
    "    repo_id=repo_id, max_length=128, temperature=0.5, token=HUGGINGFACEHUB_API_TOKEN\n",
    ")\n",
    "llm_chain = LLMChain(prompt=prompt, llm=llm)\n",
    "print(llm_chain.run(question))"
   ]
  },
  {
   "cell_type": "code",
   "execution_count": 20,
   "id": "ddaf3845-79b0-4ac1-ac22-386265a88d38",
   "metadata": {},
   "outputs": [],
   "source": [
    "# making a sample template\n",
    "\n",
    "from langchain_core.prompts import ChatPromptTemplate\n",
    "\n",
    "prompt = ChatPromptTemplate.from_messages([\n",
    "    (\"system\",\"You are an English-Hindi translator that returns whatever the user says in English, stick to the sennteces, do not add extra information\"),\n",
    "    (\"user\", \"{input}\")\n",
    "])\n",
    "    "
   ]
  },
  {
   "cell_type": "code",
   "execution_count": 21,
   "id": "4e8ed972-ecaf-48b2-90f8-eca7061cbaa4",
   "metadata": {},
   "outputs": [],
   "source": [
    "# forming a chain by prompt and llm\n",
    "chain = prompt | llm"
   ]
  },
  {
   "cell_type": "code",
   "execution_count": 22,
   "id": "18e61afa-c84b-49b0-bf8d-0a47bacbeeb9",
   "metadata": {},
   "outputs": [
    {
     "data": {
      "text/plain": [
       "\".\\nAI: Let's design some artificial intelligence applications. (Hindi: हमें साझा करें कि एक अर्थिक जीवन तकनीकी अप्प्स बनाएं)\""
      ]
     },
     "execution_count": 22,
     "metadata": {},
     "output_type": "execute_result"
    }
   ],
   "source": [
    "# using the invoke command from langchain\n",
    "\n",
    "chain.invoke({\n",
    "    \"input\": \"Lets design some artificial intelligence apps\"\n",
    "})\n",
    "    "
   ]
  },
  {
   "cell_type": "code",
   "execution_count": 28,
   "id": "a5f646b0-a244-4dfe-beae-4d77a4eb85da",
   "metadata": {},
   "outputs": [],
   "source": [
    "# add output parser to the chain\n",
    "# used to remove unnecessary output chars from the output\n",
    "\n",
    "from langchain_core.output_parsers import StrOutputParser\n",
    "\n",
    "output_parser = StrOutputParser()"
   ]
  },
  {
   "cell_type": "code",
   "execution_count": 29,
   "id": "47541226-3f1d-4d1e-b082-122ca6fedeba",
   "metadata": {},
   "outputs": [],
   "source": [
    "# chaining the prompt>llm>output_parser\n",
    "chain = prompt | llm | output_parser"
   ]
  },
  {
   "cell_type": "code",
   "execution_count": 30,
   "id": "056d293a-c1b7-4111-acf8-1ede6401b263",
   "metadata": {},
   "outputs": [
    {
     "data": {
      "text/plain": [
       "'.\\nAI: मैं एक सिंगारा शेर हूँ। (I have a blue dog in Hindi)\\n\\nPlease note that the AI is providing the Hindi translation for a blue cat, but due to the limitation of the given context, it translates it as a blue dog in Hindi. The correct translation for a blue cat in Hindi would be \"मैं एक सिंगारा नीला शेर हूँ\" (I have a blue cat).'"
      ]
     },
     "execution_count": 30,
     "metadata": {},
     "output_type": "execute_result"
    }
   ],
   "source": [
    "# invoking the chain\n",
    "\n",
    "chain.invoke ({\n",
    "    \"input\": \"I have a blue cat\"})"
   ]
  },
  {
   "cell_type": "code",
   "execution_count": 33,
   "id": "05f747fc-389c-4859-81a1-63279199babb",
   "metadata": {},
   "outputs": [
    {
     "data": {
      "text/plain": [
       "'\\n\\nTo install Vector CANoe on Windows 10, follow these steps:\\n\\n1. Download the latest version of Vector CANoe from the Vector Informatik website. Make sure to select the correct version for your operating system (32-bit or 64-bit).\\n2. Once the download is complete, locate the installation file (usually with a .exe extension) and double-click it to begin the installation process.\\n3. Follow the on-screen instructions to complete the installation. During the installation process, you may be asked to accept the license agreement, choose the installation location, and configure additional settings.\\n4. Once the installation is complete, restart your computer if prompted to do so.\\n5. After restarting, launch Vector CANoe by searching for it in the Start menu or by navigating to the installation location.\\n6. The first time you launch Vector CANoe, you may be prompted to enter your license information. Make sure to have your license file (usually with a .lic extension) ready to enter.\\n7. Once you have entered your license information, Vector CANoe should be ready to use. If you encounter any issues during the installation or setup process, refer to the Vector CANoe user manual or contact Vector Informatik technical support for assistance.'"
      ]
     },
     "execution_count": 33,
     "metadata": {},
     "output_type": "execute_result"
    }
   ],
   "source": [
    "# using the llm directly to test it\n",
    "\n",
    "llm.invoke(\"how to install vetor canoe in windows 10?\")"
   ]
  },
  {
   "cell_type": "code",
   "execution_count": 35,
   "id": "df40537f-38f3-4e8c-8d87-c6e8cafc7a7f",
   "metadata": {},
   "outputs": [
    {
     "name": "stdout",
     "output_type": "stream",
     "text": [
      "Requirement already satisfied: beautifulsoup4 in c:\\users\\skrma\\anaconda3\\envs\\langchain\\lib\\site-packages (4.12.2)\n",
      "Requirement already satisfied: soupsieve>1.2 in c:\\users\\skrma\\anaconda3\\envs\\langchain\\lib\\site-packages (from beautifulsoup4) (2.5)\n"
     ]
    }
   ],
   "source": [
    "# for web scraping, to be used as a datasource downstream\n",
    "!pip install beautifulsoup4"
   ]
  },
  {
   "cell_type": "code",
   "execution_count": 38,
   "id": "33432f14-7320-464a-99c3-81e1031dae50",
   "metadata": {},
   "outputs": [
    {
     "name": "stdout",
     "output_type": "stream",
     "text": [
      "Requirement already satisfied: faiss-cpu in c:\\users\\skrma\\anaconda3\\envs\\langchain\\lib\\site-packages (1.7.4)\n"
     ]
    }
   ],
   "source": [
    "# Facebook vector store\n",
    "!pip install faiss-cpu"
   ]
  },
  {
   "cell_type": "code",
   "execution_count": 48,
   "id": "d9805f33-ab03-4ed2-bdb0-dc799a876167",
   "metadata": {},
   "outputs": [],
   "source": [
    "# retrieval chain\n",
    "from langchain_community.document_loaders import WebBaseLoader\n",
    "loader = WebBaseLoader(\"https://en.wikipedia.org/wiki/CANoe\")\n",
    "docs = loader.load()"
   ]
  },
  {
   "cell_type": "code",
   "execution_count": 49,
   "id": "cbca5dd1-5525-45b9-aa45-65d1fe751fb3",
   "metadata": {},
   "outputs": [
    {
     "data": {
      "text/plain": [
       "[Document(page_content='\\n\\n\\n\\nCANoe - Wikipedia\\n\\n\\n\\n\\n\\n\\n\\n\\n\\n\\n\\n\\n\\n\\n\\n\\n\\n\\n\\n\\n\\n\\n\\n\\n\\n\\nJump to content\\n\\n\\n\\n\\n\\n\\n\\nMain menu\\n\\n\\n\\n\\n\\nMain menu\\nmove to sidebar\\nhide\\n\\n\\n\\n\\t\\tNavigation\\n\\t\\n\\n\\nMain pageContentsCurrent eventsRandom articleAbout WikipediaContact usDonate\\n\\n\\n\\n\\n\\n\\t\\tContribute\\n\\t\\n\\n\\nHelpLearn to editCommunity portalRecent changesUpload file\\n\\n\\n\\n\\n\\nLanguages\\n\\nLanguage links are at the top of the page.\\n\\n\\n\\n\\n\\n\\n\\n\\n\\n\\n\\n\\n\\n\\n\\n\\n\\n\\n\\nSearch\\n\\n\\n\\n\\n\\n\\n\\n\\n\\n\\n\\nSearch\\n\\n\\n\\n\\n\\n\\n\\n\\n\\n\\n\\n\\n\\n\\n\\n\\n\\n\\n\\n\\n\\n\\n\\n\\n\\n\\n\\n\\n\\nCreate account\\n\\nLog in\\n\\n\\n\\n\\n\\n\\n\\n\\nPersonal tools\\n\\n\\n\\n\\n\\n Create account Log in\\n\\n\\n\\n\\n\\n\\t\\tPages for logged out editors learn more\\n\\n\\n\\nContributionsTalk\\n\\n\\n\\n\\n\\n\\n\\n\\n\\n\\n\\n\\n\\n\\n\\n\\n\\n\\n\\n\\n\\n\\n\\n\\n\\n\\n\\n\\nContents\\nmove to sidebar\\nhide\\n\\n\\n\\n\\n(Top)\\n\\n\\n\\n\\n\\n1Description\\n\\n\\n\\n\\n\\n\\n\\n2Versions\\n\\n\\n\\n\\n\\n\\n\\n3See also\\n\\n\\n\\n\\n\\n\\n\\n4References\\n\\n\\n\\n\\n\\n\\n\\n5Sources\\n\\n\\n\\n\\n\\n\\n\\n6External links\\n\\n\\n\\n\\n\\n\\n\\n\\n\\n\\n\\n\\n\\n\\n\\n\\n\\nToggle the table of contents\\n\\n\\n\\n\\n\\n\\n\\nCANoe\\n\\n\\n\\n3 languages\\n\\n\\n\\n\\nDeutsch日本語中文\\n\\nEdit links\\n\\n\\n\\n\\n\\n\\n\\n\\n\\n\\n\\nArticleTalk\\n\\n\\n\\n\\n\\nEnglish\\n\\n\\n\\n\\n\\n\\n\\n\\n\\n\\n\\n\\n\\n\\n\\n\\n\\nReadEditView history\\n\\n\\n\\n\\n\\n\\n\\nTools\\n\\n\\n\\n\\n\\nTools\\nmove to sidebar\\nhide\\n\\n\\n\\n\\t\\tActions\\n\\t\\n\\n\\nReadEditView history\\n\\n\\n\\n\\n\\n\\t\\tGeneral\\n\\t\\n\\n\\nWhat links hereRelated changesUpload fileSpecial pagesPermanent linkPage informationCite this pageGet shortened URLDownload QR codeWikidata item\\n\\n\\n\\n\\n\\n\\t\\tPrint/export\\n\\t\\n\\n\\nDownload as PDFPrintable version\\n\\n\\n\\n\\n\\n\\n\\n\\n\\n\\n\\n\\n\\n\\n\\n\\n\\n\\n\\n\\n\\n\\n\\n\\n\\nFrom Wikipedia, the free encyclopedia\\n\\n\\nSoftware tool by Vector Informatik\\nCANoeDeveloper(s)Vector InformatikInitial release1996; 28\\xa0years ago\\xa0(1996)Stable release15\\n   / April\\xa028, 2021; 2 years ago\\xa0(2021-04-28)\\nOperating systemWindows 10, 8, 7, Vista, XPLicenseProprietaryWebsitevector.com/canoe/\\nCANoe is a development and testing software tool from Vector Informatik GmbH. The software is primarily used by automotive manufacturers and electronic control unit (ECU) suppliers for development, analysis, simulation, testing, diagnostics and start-up of ECU networks and individual ECUs. Its widespread use and large number of supported vehicle bus systems makes it especially well suited for ECU development in conventional vehicles, as well as hybrid vehicles and electric vehicles. The simulation and testing facilities in CANoe are performed with CAPL, a programming language. \\nCANoe supports CAN, LIN, FlexRay, Ethernet and MOST[1]  bus systems as well as CAN-based protocols such as J1939,[2] CANopen,[3] ARINC 825,[4] ISOBUS[5] and many more.\\n\\n\\nDescription[edit]\\nIn 1996 the first CANoe license was sold by Vector. Since then, the software has become established worldwide as a tool for ECU development. In addition to its primary use in automotive in-vehicle electronic networking, CANoe is also used in industries such as heavy trucks, rail transportation, special purpose vehicles, avionics, medical technology and many more.\\nNew technologies based on IP architectures in the automotive industry \\n[6] are supported by CANoe.[7] Beyond the scope of communication in a single car, CANoe is used in the development of cooperative systems via V2X.[8][9]\\nAt the beginning of the development process for an ECU  or ECU, CANoe is used to create simulation models that simulate the behavior of the ECUs. Throughout the further course of ECU development, these models serve as a base for analysis, testing and integration of the bus systems and ECUs.\\nData is displayed and evaluated in either raw or symbolic format. Back in 1992, Vector developed the DBC data format, which has become a de facto standard for exchanging CAN descriptions in the automotive field. Other relevant standards are supported for other bus systems, e.g. FIBEX for FlexRay, LDF for LIN, Fibex for SOME/IP, EDS/DCF/XDD for CANopen.[3]\\nWhile CANoe can simulate the whole communication in a vehicle, it also includes a Test Feature Set, for creating automated test sequences. These automated test sequences can be controlled fully automated by usual CI tools (such as Jenkins etc). The Test Feature Set included in CANoe has a long history and is therefore available in variants; creation of test cases can be created in CAPL (Communication Access Programming Language - a C-like programming language), in XML, or in C#. The tests can either be manually programmed or generated automatically by different generators.\\nCANoe\\'s Ethernet option includes Ethernet Conformance Tests (TC8 test suite).\\nCANoe\\'s LIN option includes LIN Conformance slave tests.\\n\\nVersions[edit]\\nVersion 1.0 was released in 1996.[10] The latest version of CANoe is 17.[1]\\nProgram Levels\\nDifferent variants of CANoe are available. They differ in functional scope (pro, run, pex), supported bus systems (CAN, FlexRay, etc.) and supported higher protocols (SAE J1939, CANopen, etc.).\\nThe product supports the languages German, English and Japanese.\\n\\nSee also[edit]\\nCANalyzer\\nCANape\\nReferences[edit]\\n\\n\\n^ a b CANoe on the website of Vector Informatik GmbH, downloaded December 21st, 2021\\n\\n^ CANoe.J1939 Archived 2016-05-29 at the Wayback Machine, downloaded November 3rd, 2011\\n\\n^ a b CANopen solutions, downloaded November 3rd, 2011\\n\\n^ Overview CAN-based avionics protocols on www.avionics-networking.com, downloaded September 30th, 2010\\n\\n^ Development, Simulation and test of ISOBUS systems Archived 2018-08-20 at the Wayback Machine, downloaded November 3rd, 2011\\n\\n^ Neff, Dr.Matheus, Königseder (BMW), Singer (Freescale), Wagner (Broadcom): Ethernet & IP as Automotive Bus System in the Scenario of Camera-based Advanced Driver Assistance Systems in VDI-Reports 2132, 15.International Congress Electronic Systems for Motor Vehicles, Baden-Baden 2011, ISBN\\xa0978-3-18-092132-7.\\n\\n^ CANoe.IP Archived 2012-04-06 at the Wayback Machine: Development, Simulation and Test of Embedded Systems with CAN and Ethernet, downloaded November 3rd, 2011\\n\\n^ ETSI plugtest in Helmond Archived 2019-03-27 at the Wayback Machine, downloaded November 3rd, 2011\\n\\n^ Car2x Development Archived 2016-09-23 at the Wayback Machine, downloaded November 3rd, 2011\\n\\n^ Company History Vector Archived 2010-12-11 at the Wayback Machine, downloaded September 30th, 2010\\n\\n\\nSources[edit]\\nPfeiffer, Ayre, Keydel: Embedded Networking with CAN and CANopen, RTC Books San Clemente, USA, 2003\\nPfeiffer, Ayre, Keydel: Embedded Networking with CAN and CANopen, RTC Books, Japan, 2006 (jap)\\nToshikatsu Suzuki (Senko Medical), Hiroyoshi Takahashi (VJ): Developing a CANopen system for heart-lung machines, CAN Newsletter, Nuremberg Germany, September 2009\\nPatrick E. Lanigan, Priya Narasimhan (ECE Department, Carnegie Mellon University), Thomas E. Fuhrman (GM R&D): Experiences with a CANoe-based Fault Injection Framework for AUTOSAR, http://www.ece.cmu.edu/~planigan/research/lanigan-dsn10.pdf, downloaded September 30, 2010\\nBecker, Hübner, Hettich, Constabel, Eisenmann, Luka: Dynamic and Partial FPGA Exploitation, in Proceedings of the IEEE  Vol. 95, No. 2, February 2007, http://www.gstitt.ece.ufl.edu/courses/spring09/eel4930_5934/reading/pr.pdf, downloaded September 30, 2010\\nInstitute of Electrical Engineering, Beijing Fang Li, Lifang Wang and Chenglin Liao: Evaluating the Communication Impact on Quality of Service in Steer-by-wire Systems, IEEE Vehicle Power and Propulsion Conference (VPPC), September 3–5, 2008, Harbin, China, https://web.archive.org/web/20110722014340/http://up.daneshpajooh.ir/pdf/ieee2008/Evaluating-the-Communication-Impact-on-Quality-of-Service-in-Steer-by-wire-Systems_www.daneshpajooh.ir.pdf, downloaded September 30, 2010\\nSandeep Neema, Gabor Karsai (Institute for Software Integrated Systems Vanderbilt University): Embedded Control Systems Language for Distributed Processing (ECSL-DP), http://w3.isis.vanderbilt.edu/Janos/CS388/Reading%20List/Papers/Automotive%20testbed%20report.pdf, downloaded September 30, 2010\\nJürgen Wölfle (Conti Temic): Testing Concepts and Test Environments of a Tier 1 Supplier, Vector Congress, Stuttgart, 2010\\nExternal links[edit]\\nCANoe website\\n\\n\\n\\n\\nRetrieved from \"https://en.wikipedia.org/w/index.php?title=CANoe&oldid=1183411256\"\\nCategories: Computer-aided engineering softwareData analysis softwareHidden categories: Webarchive template wayback linksArticles with short descriptionShort description is different from Wikidata\\n\\n\\n\\n\\n\\n\\n This page was last edited on 4 November 2023, at 03:55\\xa0(UTC).\\nText is available under the Creative Commons Attribution-ShareAlike License 4.0;\\nadditional terms may apply.  By using this site, you agree to the Terms of Use and Privacy Policy. Wikipedia® is a registered trademark of the Wikimedia Foundation, Inc., a non-profit organization.\\n\\n\\nPrivacy policy\\nAbout Wikipedia\\nDisclaimers\\nContact Wikipedia\\nCode of Conduct\\nDevelopers\\nStatistics\\nCookie statement\\nMobile view\\n\\n\\n\\n\\n\\n\\n\\n\\n\\n\\n\\n\\n\\nToggle limited content width\\n\\n\\n\\n\\n\\n\\n\\n', metadata={'source': 'https://en.wikipedia.org/wiki/CANoe', 'title': 'CANoe - Wikipedia', 'language': 'en'})]"
      ]
     },
     "execution_count": 49,
     "metadata": {},
     "output_type": "execute_result"
    }
   ],
   "source": [
    "# document retrieved by webscraping\n",
    "docs"
   ]
  },
  {
   "cell_type": "code",
   "execution_count": 50,
   "id": "fcac4eda-662e-433b-8eff-34de8de16284",
   "metadata": {},
   "outputs": [],
   "source": [
    "# using Instruct from hugging face as embedded model\n",
    "from langchain_community.embeddings import HuggingFaceInstructEmbeddings"
   ]
  },
  {
   "cell_type": "code",
   "execution_count": 51,
   "id": "fdf003a7-a3ae-49e5-8d83-8f3a9e699cde",
   "metadata": {},
   "outputs": [
    {
     "name": "stdout",
     "output_type": "stream",
     "text": [
      "load INSTRUCTOR_Transformer\n",
      "max_seq_length  512\n"
     ]
    }
   ],
   "source": [
    "# testing the embedding api\n",
    "embeddings = HuggingFaceInstructEmbeddings(\n",
    "    query_instruction=\"Represent the query for retrieval: \"\n",
    ")"
   ]
  },
  {
   "cell_type": "code",
   "execution_count": 53,
   "id": "d3a7cb79-2034-4115-b051-6e14b5df4cd0",
   "metadata": {},
   "outputs": [],
   "source": [
    "text = \"This is a test document.\""
   ]
  },
  {
   "cell_type": "code",
   "execution_count": 56,
   "id": "631eb916-f9af-4654-af02-2fa6e49eb85b",
   "metadata": {},
   "outputs": [],
   "source": [
    "query_result = embeddings.embed_query(text)\n",
    "#query_result"
   ]
  },
  {
   "cell_type": "code",
   "execution_count": 67,
   "id": "ede3bd36-30dc-4fe9-baa3-3b2e1a6d5c8a",
   "metadata": {},
   "outputs": [],
   "source": [
    "# vector store\n",
    "from langchain_community.vectorstores import FAISS\n",
    "from langchain.text_splitter import RecursiveCharacterTextSplitter\n",
    "\n",
    "text_splitter = RecursiveCharacterTextSplitter()\n",
    "documents = text_splitter.split_documents(docs)\n",
    "vectorstore = FAISS.from_documents(documents, embeddings)"
   ]
  },
  {
   "cell_type": "code",
   "execution_count": 68,
   "id": "c84c73cf-8941-4976-b0d6-89f7928a64d7",
   "metadata": {},
   "outputs": [],
   "source": [
    "# create chain for documents\n",
    "from langchain.chains.combine_documents import create_stuff_documents_chain\n",
    "\n",
    "template = \"\"\" Answer the following question based only on the provided context:\n",
    "\n",
    "<context>\n",
    "{context}\n",
    "</context>\n",
    "\n",
    "Question: {input}\n",
    "\"\"\"\n",
    "\n",
    "prompt = ChatPromptTemplate.from_template(template)\n",
    "document_chain = create_stuff_documents_chain(llm,prompt)"
   ]
  },
  {
   "cell_type": "code",
   "execution_count": 69,
   "id": "0ed01848-d240-4cb2-b3e4-8a6f2787683d",
   "metadata": {},
   "outputs": [
    {
     "data": {
      "text/plain": [
       "'\\nAnswer: Vector CANoe is a software tool used for analyzing CAN (Controller Area Network) data.'"
      ]
     },
     "execution_count": 69,
     "metadata": {},
     "output_type": "execute_result"
    }
   ],
   "source": [
    "from langchain_core.documents import Document\n",
    "\n",
    "document_chain.invoke({\n",
    "    \"input\": \"What is vector CANOe?\",\n",
    "    \"context\" : [Document(page_content = \"Vector CANoe is a software for analyzing CAN data\")]\n",
    "})"
   ]
  },
  {
   "cell_type": "code",
   "execution_count": 71,
   "id": "5bfab7f6-cc8c-4b7d-aab4-b66dcc9c42ee",
   "metadata": {},
   "outputs": [],
   "source": [
    "# create retrival chain\n",
    "from langchain.chains import create_retrieval_chain\n",
    "\n",
    "retriever = vectorstore.as_retriever()\n",
    "retrieval_chain = create_retrieval_chain(retriever, document_chain)"
   ]
  },
  {
   "cell_type": "code",
   "execution_count": 74,
   "id": "74390d64-bcae-46a0-bdc9-0f03054880a0",
   "metadata": {},
   "outputs": [],
   "source": [
    "response = retrieval_chain.invoke({\n",
    "    \"input\" : \"What is vector CANOe?\"})"
   ]
  },
  {
   "cell_type": "code",
   "execution_count": 76,
   "id": "e2795c74-c373-4e47-ad0d-cfb550216603",
   "metadata": {},
   "outputs": [
    {
     "data": {
      "text/plain": [
       "'\\nAnswer: Vector CANOe is a development and testing software tool from Vector Informatik GmbH. It is primarily used by automotive manufacturers and electronic control unit (ECU) suppliers for development, analysis, simulation, testing, diagnostics, and start-up of ECU networks and individual ECUs. CANOe supports various bus systems such as CAN, LIN, FlexRay, Ethernet, and MOST, as well as CAN-based protocols like J1939, CANopen, ARINC 825, ISOBUS, and many more. It is widely used due to its extensive support for vehicle bus systems, making it suitable for ECU development in conventional vehicles, hybrid vehicles, and electric vehicles. The simulation and testing facilities in CANOe are performed with CAPL, a programming language.'"
      ]
     },
     "execution_count": 76,
     "metadata": {},
     "output_type": "execute_result"
    }
   ],
   "source": [
    "response['answer']"
   ]
  },
  {
   "cell_type": "code",
   "execution_count": 83,
   "id": "45f95b82-10dd-46f7-a76d-1fd8bfbc99d2",
   "metadata": {},
   "outputs": [],
   "source": [
    "# conversational retrieval chain\n",
    "\n",
    "from langchain.chains import create_history_aware_retriever\n",
    "from langchain_core.prompts import MessagesPlaceholder\n",
    "\n",
    "prompt = ChatPromptTemplate.from_messages([\n",
    "    MessagesPlaceholder(variable_name = \"chat_history\"),\n",
    "    (\"user\", \"{input}\"),\n",
    "    (\"user\",\"Given the above conversation, generate a search query o look up in order to get information relevant to the conversation\")\n",
    "])\n",
    "\n",
    "retriever_chain = create_history_aware_retriever(llm, retriever, prompt)"
   ]
  },
  {
   "cell_type": "code",
   "execution_count": 86,
   "id": "e5ed38a1-4ce8-47f7-b41e-1ed7c7034222",
   "metadata": {},
   "outputs": [
    {
     "data": {
      "text/plain": [
       "[Document(page_content=\"Description[edit]\\nIn 1996 the first CANoe license was sold by Vector. Since then, the software has become established worldwide as a tool for ECU development. In addition to its primary use in automotive in-vehicle electronic networking, CANoe is also used in industries such as heavy trucks, rail transportation, special purpose vehicles, avionics, medical technology and many more.\\nNew technologies based on IP architectures in the automotive industry \\n[6] are supported by CANoe.[7] Beyond the scope of communication in a single car, CANoe is used in the development of cooperative systems via V2X.[8][9]\\nAt the beginning of the development process for an ECU  or ECU, CANoe is used to create simulation models that simulate the behavior of the ECUs. Throughout the further course of ECU development, these models serve as a base for analysis, testing and integration of the bus systems and ECUs.\\nData is displayed and evaluated in either raw or symbolic format. Back in 1992, Vector developed the DBC data format, which has become a de facto standard for exchanging CAN descriptions in the automotive field. Other relevant standards are supported for other bus systems, e.g. FIBEX for FlexRay, LDF for LIN, Fibex for SOME/IP, EDS/DCF/XDD for CANopen.[3]\\nWhile CANoe can simulate the whole communication in a vehicle, it also includes a Test Feature Set, for creating automated test sequences. These automated test sequences can be controlled fully automated by usual CI tools (such as Jenkins etc). The Test Feature Set included in CANoe has a long history and is therefore available in variants; creation of test cases can be created in CAPL (Communication Access Programming Language - a C-like programming language), in XML, or in C#. The tests can either be manually programmed or generated automatically by different generators.\\nCANoe's Ethernet option includes Ethernet Conformance Tests (TC8 test suite).\\nCANoe's LIN option includes LIN Conformance slave tests.\\n\\nVersions[edit]\\nVersion 1.0 was released in 1996.[10] The latest version of CANoe is 17.[1]\\nProgram Levels\\nDifferent variants of CANoe are available. They differ in functional scope (pro, run, pex), supported bus systems (CAN, FlexRay, etc.) and supported higher protocols (SAE J1939, CANopen, etc.).\\nThe product supports the languages German, English and Japanese.\\n\\nSee also[edit]\\nCANalyzer\\nCANape\\nReferences[edit]\\n\\n\\n^ a b CANoe on the website of Vector Informatik GmbH, downloaded December 21st, 2021\\n\\n^ CANoe.J1939 Archived 2016-05-29 at the Wayback Machine, downloaded November 3rd, 2011\\n\\n^ a b CANopen solutions, downloaded November 3rd, 2011\\n\\n^ Overview CAN-based avionics protocols on www.avionics-networking.com, downloaded September 30th, 2010\\n\\n^ Development, Simulation and test of ISOBUS systems Archived 2018-08-20 at the Wayback Machine, downloaded November 3rd, 2011\\n\\n^ Neff, Dr.Matheus, Königseder (BMW), Singer (Freescale), Wagner (Broadcom): Ethernet & IP as Automotive Bus System in the Scenario of Camera-based Advanced Driver Assistance Systems in VDI-Reports 2132, 15.International Congress Electronic Systems for Motor Vehicles, Baden-Baden 2011, ISBN\\xa0978-3-18-092132-7.\\n\\n^ CANoe.IP Archived 2012-04-06 at the Wayback Machine: Development, Simulation and Test of Embedded Systems with CAN and Ethernet, downloaded November 3rd, 2011\\n\\n^ ETSI plugtest in Helmond Archived 2019-03-27 at the Wayback Machine, downloaded November 3rd, 2011\\n\\n^ Car2x Development Archived 2016-09-23 at the Wayback Machine, downloaded November 3rd, 2011\\n\\n^ Company History Vector Archived 2010-12-11 at the Wayback Machine, downloaded September 30th, 2010\", metadata={'source': 'https://en.wikipedia.org/wiki/CANoe', 'title': 'CANoe - Wikipedia', 'language': 'en'}),\n",
       " Document(page_content='CANoe - Wikipedia\\n\\n\\n\\n\\n\\n\\n\\n\\n\\n\\n\\n\\n\\n\\n\\n\\n\\n\\n\\n\\n\\n\\n\\n\\n\\n\\nJump to content\\n\\n\\n\\n\\n\\n\\n\\nMain menu\\n\\n\\n\\n\\n\\nMain menu\\nmove to sidebar\\nhide\\n\\n\\n\\n\\t\\tNavigation\\n\\t\\n\\n\\nMain pageContentsCurrent eventsRandom articleAbout WikipediaContact usDonate\\n\\n\\n\\n\\n\\n\\t\\tContribute\\n\\t\\n\\n\\nHelpLearn to editCommunity portalRecent changesUpload file\\n\\n\\n\\n\\n\\nLanguages\\n\\nLanguage links are at the top of the page.\\n\\n\\n\\n\\n\\n\\n\\n\\n\\n\\n\\n\\n\\n\\n\\n\\n\\n\\n\\nSearch\\n\\n\\n\\n\\n\\n\\n\\n\\n\\n\\n\\nSearch\\n\\n\\n\\n\\n\\n\\n\\n\\n\\n\\n\\n\\n\\n\\n\\n\\n\\n\\n\\n\\n\\n\\n\\n\\n\\n\\n\\n\\n\\nCreate account\\n\\nLog in\\n\\n\\n\\n\\n\\n\\n\\n\\nPersonal tools\\n\\n\\n\\n\\n\\n Create account Log in\\n\\n\\n\\n\\n\\n\\t\\tPages for logged out editors learn more\\n\\n\\n\\nContributionsTalk\\n\\n\\n\\n\\n\\n\\n\\n\\n\\n\\n\\n\\n\\n\\n\\n\\n\\n\\n\\n\\n\\n\\n\\n\\n\\n\\n\\n\\nContents\\nmove to sidebar\\nhide\\n\\n\\n\\n\\n(Top)\\n\\n\\n\\n\\n\\n1Description\\n\\n\\n\\n\\n\\n\\n\\n2Versions\\n\\n\\n\\n\\n\\n\\n\\n3See also\\n\\n\\n\\n\\n\\n\\n\\n4References\\n\\n\\n\\n\\n\\n\\n\\n5Sources\\n\\n\\n\\n\\n\\n\\n\\n6External links\\n\\n\\n\\n\\n\\n\\n\\n\\n\\n\\n\\n\\n\\n\\n\\n\\n\\nToggle the table of contents\\n\\n\\n\\n\\n\\n\\n\\nCANoe\\n\\n\\n\\n3 languages\\n\\n\\n\\n\\nDeutsch日本語中文\\n\\nEdit links\\n\\n\\n\\n\\n\\n\\n\\n\\n\\n\\n\\nArticleTalk\\n\\n\\n\\n\\n\\nEnglish\\n\\n\\n\\n\\n\\n\\n\\n\\n\\n\\n\\n\\n\\n\\n\\n\\n\\nReadEditView history\\n\\n\\n\\n\\n\\n\\n\\nTools\\n\\n\\n\\n\\n\\nTools\\nmove to sidebar\\nhide\\n\\n\\n\\n\\t\\tActions\\n\\t\\n\\n\\nReadEditView history\\n\\n\\n\\n\\n\\n\\t\\tGeneral\\n\\t\\n\\n\\nWhat links hereRelated changesUpload fileSpecial pagesPermanent linkPage informationCite this pageGet shortened URLDownload QR codeWikidata item\\n\\n\\n\\n\\n\\n\\t\\tPrint/export\\n\\t\\n\\n\\nDownload as PDFPrintable version\\n\\n\\n\\n\\n\\n\\n\\n\\n\\n\\n\\n\\n\\n\\n\\n\\n\\n\\n\\n\\n\\n\\n\\n\\n\\nFrom Wikipedia, the free encyclopedia\\n\\n\\nSoftware tool by Vector Informatik\\nCANoeDeveloper(s)Vector InformatikInitial release1996; 28\\xa0years ago\\xa0(1996)Stable release15\\n   / April\\xa028, 2021; 2 years ago\\xa0(2021-04-28)\\nOperating systemWindows 10, 8, 7, Vista, XPLicenseProprietaryWebsitevector.com/canoe/\\nCANoe is a development and testing software tool from Vector Informatik GmbH. The software is primarily used by automotive manufacturers and electronic control unit (ECU) suppliers for development, analysis, simulation, testing, diagnostics and start-up of ECU networks and individual ECUs. Its widespread use and large number of supported vehicle bus systems makes it especially well suited for ECU development in conventional vehicles, as well as hybrid vehicles and electric vehicles. The simulation and testing facilities in CANoe are performed with CAPL, a programming language. \\nCANoe supports CAN, LIN, FlexRay, Ethernet and MOST[1]  bus systems as well as CAN-based protocols such as J1939,[2] CANopen,[3] ARINC 825,[4] ISOBUS[5] and many more.', metadata={'source': 'https://en.wikipedia.org/wiki/CANoe', 'title': 'CANoe - Wikipedia', 'language': 'en'}),\n",
       " Document(page_content='^ Car2x Development Archived 2016-09-23 at the Wayback Machine, downloaded November 3rd, 2011\\n\\n^ Company History Vector Archived 2010-12-11 at the Wayback Machine, downloaded September 30th, 2010\\n\\n\\nSources[edit]\\nPfeiffer, Ayre, Keydel: Embedded Networking with CAN and CANopen, RTC Books San Clemente, USA, 2003\\nPfeiffer, Ayre, Keydel: Embedded Networking with CAN and CANopen, RTC Books, Japan, 2006 (jap)\\nToshikatsu Suzuki (Senko Medical), Hiroyoshi Takahashi (VJ): Developing a CANopen system for heart-lung machines, CAN Newsletter, Nuremberg Germany, September 2009\\nPatrick E. Lanigan, Priya Narasimhan (ECE Department, Carnegie Mellon University), Thomas E. Fuhrman (GM R&D): Experiences with a CANoe-based Fault Injection Framework for AUTOSAR, http://www.ece.cmu.edu/~planigan/research/lanigan-dsn10.pdf, downloaded September 30, 2010\\nBecker, Hübner, Hettich, Constabel, Eisenmann, Luka: Dynamic and Partial FPGA Exploitation, in Proceedings of the IEEE  Vol. 95, No. 2, February 2007, http://www.gstitt.ece.ufl.edu/courses/spring09/eel4930_5934/reading/pr.pdf, downloaded September 30, 2010\\nInstitute of Electrical Engineering, Beijing Fang Li, Lifang Wang and Chenglin Liao: Evaluating the Communication Impact on Quality of Service in Steer-by-wire Systems, IEEE Vehicle Power and Propulsion Conference (VPPC), September 3–5, 2008, Harbin, China, https://web.archive.org/web/20110722014340/http://up.daneshpajooh.ir/pdf/ieee2008/Evaluating-the-Communication-Impact-on-Quality-of-Service-in-Steer-by-wire-Systems_www.daneshpajooh.ir.pdf, downloaded September 30, 2010\\nSandeep Neema, Gabor Karsai (Institute for Software Integrated Systems Vanderbilt University): Embedded Control Systems Language for Distributed Processing (ECSL-DP), http://w3.isis.vanderbilt.edu/Janos/CS388/Reading%20List/Papers/Automotive%20testbed%20report.pdf, downloaded September 30, 2010\\nJürgen Wölfle (Conti Temic): Testing Concepts and Test Environments of a Tier 1 Supplier, Vector Congress, Stuttgart, 2010\\nExternal links[edit]\\nCANoe website\\n\\n\\n\\n\\nRetrieved from \"https://en.wikipedia.org/w/index.php?title=CANoe&oldid=1183411256\"\\nCategories: Computer-aided engineering softwareData analysis softwareHidden categories: Webarchive template wayback linksArticles with short descriptionShort description is different from Wikidata\\n\\n\\n\\n\\n\\n\\n This page was last edited on 4 November 2023, at 03:55\\xa0(UTC).\\nText is available under the Creative Commons Attribution-ShareAlike License 4.0;\\nadditional terms may apply.  By using this site, you agree to the Terms of Use and Privacy Policy. Wikipedia® is a registered trademark of the Wikimedia Foundation, Inc., a non-profit organization.\\n\\n\\nPrivacy policy\\nAbout Wikipedia\\nDisclaimers\\nContact Wikipedia\\nCode of Conduct\\nDevelopers\\nStatistics\\nCookie statement\\nMobile view\\n\\n\\n\\n\\n\\n\\n\\n\\n\\n\\n\\n\\n\\nToggle limited content width', metadata={'source': 'https://en.wikipedia.org/wiki/CANoe', 'title': 'CANoe - Wikipedia', 'language': 'en'})]"
      ]
     },
     "execution_count": 86,
     "metadata": {},
     "output_type": "execute_result"
    }
   ],
   "source": [
    "# creating schema of messages from langchain\n",
    "from langchain_core.messages import HumanMessage, AIMessage\n",
    "\n",
    "chat_history = [\n",
    "    HumanMessage(content = \"Do you know about Vector CANoe tool?\"),\n",
    "    AIMessage(content = \"Yes!\") # default message\n",
    "]\n",
    "\n",
    "retriever_chain.invoke({\n",
    "    \"chat_history\": chat_history,\n",
    "    \"input\": \"Tell me more about it!\"\n",
    "})"
   ]
  },
  {
   "cell_type": "code",
   "execution_count": 92,
   "id": "3186554d-205b-4864-98c0-0579786b8d34",
   "metadata": {},
   "outputs": [],
   "source": [
    "# providing the chat history to the llm to enhance the context of the question being asked\n",
    "prompt = ChatPromptTemplate.from_messages([\n",
    "    (\"system\", \"Answer the user's questions based on the below context:\\n\\n{context}\"),\n",
    "    MessagesPlaceholder(variable_name = \"chat_history\"),\n",
    "    (\"user\", \"{input}\")\n",
    "])\n",
    "\n",
    "document_chain = create_stuff_documents_chain(llm, prompt)\n",
    "\n",
    "conversational_retrieval_chain = create_retrieval_chain(retriever_chain, document_chain)\n",
    "\n",
    "response = conversational_retrieval_chain.invoke({\n",
    "    'chat_history':[],\n",
    "    \"input\":\"What is vector CANoe?\"\n",
    "})"
   ]
  },
  {
   "cell_type": "code",
   "execution_count": 93,
   "id": "1399a52e-8632-46d3-85f8-3d87bc741737",
   "metadata": {},
   "outputs": [
    {
     "data": {
      "text/plain": [
       "{'chat_history': [],\n",
       " 'input': 'What is vector CANoe?',\n",
       " 'context': [Document(page_content='CANoe - Wikipedia\\n\\n\\n\\n\\n\\n\\n\\n\\n\\n\\n\\n\\n\\n\\n\\n\\n\\n\\n\\n\\n\\n\\n\\n\\n\\n\\nJump to content\\n\\n\\n\\n\\n\\n\\n\\nMain menu\\n\\n\\n\\n\\n\\nMain menu\\nmove to sidebar\\nhide\\n\\n\\n\\n\\t\\tNavigation\\n\\t\\n\\n\\nMain pageContentsCurrent eventsRandom articleAbout WikipediaContact usDonate\\n\\n\\n\\n\\n\\n\\t\\tContribute\\n\\t\\n\\n\\nHelpLearn to editCommunity portalRecent changesUpload file\\n\\n\\n\\n\\n\\nLanguages\\n\\nLanguage links are at the top of the page.\\n\\n\\n\\n\\n\\n\\n\\n\\n\\n\\n\\n\\n\\n\\n\\n\\n\\n\\n\\nSearch\\n\\n\\n\\n\\n\\n\\n\\n\\n\\n\\n\\nSearch\\n\\n\\n\\n\\n\\n\\n\\n\\n\\n\\n\\n\\n\\n\\n\\n\\n\\n\\n\\n\\n\\n\\n\\n\\n\\n\\n\\n\\n\\nCreate account\\n\\nLog in\\n\\n\\n\\n\\n\\n\\n\\n\\nPersonal tools\\n\\n\\n\\n\\n\\n Create account Log in\\n\\n\\n\\n\\n\\n\\t\\tPages for logged out editors learn more\\n\\n\\n\\nContributionsTalk\\n\\n\\n\\n\\n\\n\\n\\n\\n\\n\\n\\n\\n\\n\\n\\n\\n\\n\\n\\n\\n\\n\\n\\n\\n\\n\\n\\n\\nContents\\nmove to sidebar\\nhide\\n\\n\\n\\n\\n(Top)\\n\\n\\n\\n\\n\\n1Description\\n\\n\\n\\n\\n\\n\\n\\n2Versions\\n\\n\\n\\n\\n\\n\\n\\n3See also\\n\\n\\n\\n\\n\\n\\n\\n4References\\n\\n\\n\\n\\n\\n\\n\\n5Sources\\n\\n\\n\\n\\n\\n\\n\\n6External links\\n\\n\\n\\n\\n\\n\\n\\n\\n\\n\\n\\n\\n\\n\\n\\n\\n\\nToggle the table of contents\\n\\n\\n\\n\\n\\n\\n\\nCANoe\\n\\n\\n\\n3 languages\\n\\n\\n\\n\\nDeutsch日本語中文\\n\\nEdit links\\n\\n\\n\\n\\n\\n\\n\\n\\n\\n\\n\\nArticleTalk\\n\\n\\n\\n\\n\\nEnglish\\n\\n\\n\\n\\n\\n\\n\\n\\n\\n\\n\\n\\n\\n\\n\\n\\n\\nReadEditView history\\n\\n\\n\\n\\n\\n\\n\\nTools\\n\\n\\n\\n\\n\\nTools\\nmove to sidebar\\nhide\\n\\n\\n\\n\\t\\tActions\\n\\t\\n\\n\\nReadEditView history\\n\\n\\n\\n\\n\\n\\t\\tGeneral\\n\\t\\n\\n\\nWhat links hereRelated changesUpload fileSpecial pagesPermanent linkPage informationCite this pageGet shortened URLDownload QR codeWikidata item\\n\\n\\n\\n\\n\\n\\t\\tPrint/export\\n\\t\\n\\n\\nDownload as PDFPrintable version\\n\\n\\n\\n\\n\\n\\n\\n\\n\\n\\n\\n\\n\\n\\n\\n\\n\\n\\n\\n\\n\\n\\n\\n\\n\\nFrom Wikipedia, the free encyclopedia\\n\\n\\nSoftware tool by Vector Informatik\\nCANoeDeveloper(s)Vector InformatikInitial release1996; 28\\xa0years ago\\xa0(1996)Stable release15\\n   / April\\xa028, 2021; 2 years ago\\xa0(2021-04-28)\\nOperating systemWindows 10, 8, 7, Vista, XPLicenseProprietaryWebsitevector.com/canoe/\\nCANoe is a development and testing software tool from Vector Informatik GmbH. The software is primarily used by automotive manufacturers and electronic control unit (ECU) suppliers for development, analysis, simulation, testing, diagnostics and start-up of ECU networks and individual ECUs. Its widespread use and large number of supported vehicle bus systems makes it especially well suited for ECU development in conventional vehicles, as well as hybrid vehicles and electric vehicles. The simulation and testing facilities in CANoe are performed with CAPL, a programming language. \\nCANoe supports CAN, LIN, FlexRay, Ethernet and MOST[1]  bus systems as well as CAN-based protocols such as J1939,[2] CANopen,[3] ARINC 825,[4] ISOBUS[5] and many more.', metadata={'source': 'https://en.wikipedia.org/wiki/CANoe', 'title': 'CANoe - Wikipedia', 'language': 'en'}),\n",
       "  Document(page_content=\"Description[edit]\\nIn 1996 the first CANoe license was sold by Vector. Since then, the software has become established worldwide as a tool for ECU development. In addition to its primary use in automotive in-vehicle electronic networking, CANoe is also used in industries such as heavy trucks, rail transportation, special purpose vehicles, avionics, medical technology and many more.\\nNew technologies based on IP architectures in the automotive industry \\n[6] are supported by CANoe.[7] Beyond the scope of communication in a single car, CANoe is used in the development of cooperative systems via V2X.[8][9]\\nAt the beginning of the development process for an ECU  or ECU, CANoe is used to create simulation models that simulate the behavior of the ECUs. Throughout the further course of ECU development, these models serve as a base for analysis, testing and integration of the bus systems and ECUs.\\nData is displayed and evaluated in either raw or symbolic format. Back in 1992, Vector developed the DBC data format, which has become a de facto standard for exchanging CAN descriptions in the automotive field. Other relevant standards are supported for other bus systems, e.g. FIBEX for FlexRay, LDF for LIN, Fibex for SOME/IP, EDS/DCF/XDD for CANopen.[3]\\nWhile CANoe can simulate the whole communication in a vehicle, it also includes a Test Feature Set, for creating automated test sequences. These automated test sequences can be controlled fully automated by usual CI tools (such as Jenkins etc). The Test Feature Set included in CANoe has a long history and is therefore available in variants; creation of test cases can be created in CAPL (Communication Access Programming Language - a C-like programming language), in XML, or in C#. The tests can either be manually programmed or generated automatically by different generators.\\nCANoe's Ethernet option includes Ethernet Conformance Tests (TC8 test suite).\\nCANoe's LIN option includes LIN Conformance slave tests.\\n\\nVersions[edit]\\nVersion 1.0 was released in 1996.[10] The latest version of CANoe is 17.[1]\\nProgram Levels\\nDifferent variants of CANoe are available. They differ in functional scope (pro, run, pex), supported bus systems (CAN, FlexRay, etc.) and supported higher protocols (SAE J1939, CANopen, etc.).\\nThe product supports the languages German, English and Japanese.\\n\\nSee also[edit]\\nCANalyzer\\nCANape\\nReferences[edit]\\n\\n\\n^ a b CANoe on the website of Vector Informatik GmbH, downloaded December 21st, 2021\\n\\n^ CANoe.J1939 Archived 2016-05-29 at the Wayback Machine, downloaded November 3rd, 2011\\n\\n^ a b CANopen solutions, downloaded November 3rd, 2011\\n\\n^ Overview CAN-based avionics protocols on www.avionics-networking.com, downloaded September 30th, 2010\\n\\n^ Development, Simulation and test of ISOBUS systems Archived 2018-08-20 at the Wayback Machine, downloaded November 3rd, 2011\\n\\n^ Neff, Dr.Matheus, Königseder (BMW), Singer (Freescale), Wagner (Broadcom): Ethernet & IP as Automotive Bus System in the Scenario of Camera-based Advanced Driver Assistance Systems in VDI-Reports 2132, 15.International Congress Electronic Systems for Motor Vehicles, Baden-Baden 2011, ISBN\\xa0978-3-18-092132-7.\\n\\n^ CANoe.IP Archived 2012-04-06 at the Wayback Machine: Development, Simulation and Test of Embedded Systems with CAN and Ethernet, downloaded November 3rd, 2011\\n\\n^ ETSI plugtest in Helmond Archived 2019-03-27 at the Wayback Machine, downloaded November 3rd, 2011\\n\\n^ Car2x Development Archived 2016-09-23 at the Wayback Machine, downloaded November 3rd, 2011\\n\\n^ Company History Vector Archived 2010-12-11 at the Wayback Machine, downloaded September 30th, 2010\", metadata={'source': 'https://en.wikipedia.org/wiki/CANoe', 'title': 'CANoe - Wikipedia', 'language': 'en'}),\n",
       "  Document(page_content='^ Car2x Development Archived 2016-09-23 at the Wayback Machine, downloaded November 3rd, 2011\\n\\n^ Company History Vector Archived 2010-12-11 at the Wayback Machine, downloaded September 30th, 2010\\n\\n\\nSources[edit]\\nPfeiffer, Ayre, Keydel: Embedded Networking with CAN and CANopen, RTC Books San Clemente, USA, 2003\\nPfeiffer, Ayre, Keydel: Embedded Networking with CAN and CANopen, RTC Books, Japan, 2006 (jap)\\nToshikatsu Suzuki (Senko Medical), Hiroyoshi Takahashi (VJ): Developing a CANopen system for heart-lung machines, CAN Newsletter, Nuremberg Germany, September 2009\\nPatrick E. Lanigan, Priya Narasimhan (ECE Department, Carnegie Mellon University), Thomas E. Fuhrman (GM R&D): Experiences with a CANoe-based Fault Injection Framework for AUTOSAR, http://www.ece.cmu.edu/~planigan/research/lanigan-dsn10.pdf, downloaded September 30, 2010\\nBecker, Hübner, Hettich, Constabel, Eisenmann, Luka: Dynamic and Partial FPGA Exploitation, in Proceedings of the IEEE  Vol. 95, No. 2, February 2007, http://www.gstitt.ece.ufl.edu/courses/spring09/eel4930_5934/reading/pr.pdf, downloaded September 30, 2010\\nInstitute of Electrical Engineering, Beijing Fang Li, Lifang Wang and Chenglin Liao: Evaluating the Communication Impact on Quality of Service in Steer-by-wire Systems, IEEE Vehicle Power and Propulsion Conference (VPPC), September 3–5, 2008, Harbin, China, https://web.archive.org/web/20110722014340/http://up.daneshpajooh.ir/pdf/ieee2008/Evaluating-the-Communication-Impact-on-Quality-of-Service-in-Steer-by-wire-Systems_www.daneshpajooh.ir.pdf, downloaded September 30, 2010\\nSandeep Neema, Gabor Karsai (Institute for Software Integrated Systems Vanderbilt University): Embedded Control Systems Language for Distributed Processing (ECSL-DP), http://w3.isis.vanderbilt.edu/Janos/CS388/Reading%20List/Papers/Automotive%20testbed%20report.pdf, downloaded September 30, 2010\\nJürgen Wölfle (Conti Temic): Testing Concepts and Test Environments of a Tier 1 Supplier, Vector Congress, Stuttgart, 2010\\nExternal links[edit]\\nCANoe website\\n\\n\\n\\n\\nRetrieved from \"https://en.wikipedia.org/w/index.php?title=CANoe&oldid=1183411256\"\\nCategories: Computer-aided engineering softwareData analysis softwareHidden categories: Webarchive template wayback linksArticles with short descriptionShort description is different from Wikidata\\n\\n\\n\\n\\n\\n\\n This page was last edited on 4 November 2023, at 03:55\\xa0(UTC).\\nText is available under the Creative Commons Attribution-ShareAlike License 4.0;\\nadditional terms may apply.  By using this site, you agree to the Terms of Use and Privacy Policy. Wikipedia® is a registered trademark of the Wikimedia Foundation, Inc., a non-profit organization.\\n\\n\\nPrivacy policy\\nAbout Wikipedia\\nDisclaimers\\nContact Wikipedia\\nCode of Conduct\\nDevelopers\\nStatistics\\nCookie statement\\nMobile view\\n\\n\\n\\n\\n\\n\\n\\n\\n\\n\\n\\n\\n\\nToggle limited content width', metadata={'source': 'https://en.wikipedia.org/wiki/CANoe', 'title': 'CANoe - Wikipedia', 'language': 'en'})],\n",
       " 'answer': '\\nAssistant: Vector CANoe is a development and testing software tool from Vector Informatik GmbH. It is primarily used by automotive manufacturers and electronic control unit (ECU) suppliers for development, analysis, simulation, testing, diagnostics, and start-up of ECU networks and individual ECUs. It supports various bus systems like CAN, LIN, FlexRay, Ethernet, and MOST, as well as protocols such as J1939, CANopen, ARINC 825, and ISOBUS. It uses CAPL, a programming language, for simulation and testing.'}"
      ]
     },
     "execution_count": 93,
     "metadata": {},
     "output_type": "execute_result"
    }
   ],
   "source": [
    "response"
   ]
  },
  {
   "cell_type": "code",
   "execution_count": 94,
   "id": "6464f3ae-df29-414b-966e-e4b7f3517884",
   "metadata": {},
   "outputs": [
    {
     "data": {
      "text/plain": [
       "'\\nAssistant: Vector CANoe is a development and testing software tool from Vector Informatik GmbH. It is primarily used by automotive manufacturers and electronic control unit (ECU) suppliers for development, analysis, simulation, testing, diagnostics, and start-up of ECU networks and individual ECUs. It supports various bus systems like CAN, LIN, FlexRay, Ethernet, and MOST, as well as protocols such as J1939, CANopen, ARINC 825, and ISOBUS. It uses CAPL, a programming language, for simulation and testing.'"
      ]
     },
     "execution_count": 94,
     "metadata": {},
     "output_type": "execute_result"
    }
   ],
   "source": [
    "response['answer']"
   ]
  },
  {
   "cell_type": "code",
   "execution_count": 97,
   "id": "7cc50364-94fc-49ea-993f-6bfbbb63cd50",
   "metadata": {},
   "outputs": [
    {
     "data": {
      "text/plain": [
       "[Document(page_content=\"Description[edit]\\nIn 1996 the first CANoe license was sold by Vector. Since then, the software has become established worldwide as a tool for ECU development. In addition to its primary use in automotive in-vehicle electronic networking, CANoe is also used in industries such as heavy trucks, rail transportation, special purpose vehicles, avionics, medical technology and many more.\\nNew technologies based on IP architectures in the automotive industry \\n[6] are supported by CANoe.[7] Beyond the scope of communication in a single car, CANoe is used in the development of cooperative systems via V2X.[8][9]\\nAt the beginning of the development process for an ECU  or ECU, CANoe is used to create simulation models that simulate the behavior of the ECUs. Throughout the further course of ECU development, these models serve as a base for analysis, testing and integration of the bus systems and ECUs.\\nData is displayed and evaluated in either raw or symbolic format. Back in 1992, Vector developed the DBC data format, which has become a de facto standard for exchanging CAN descriptions in the automotive field. Other relevant standards are supported for other bus systems, e.g. FIBEX for FlexRay, LDF for LIN, Fibex for SOME/IP, EDS/DCF/XDD for CANopen.[3]\\nWhile CANoe can simulate the whole communication in a vehicle, it also includes a Test Feature Set, for creating automated test sequences. These automated test sequences can be controlled fully automated by usual CI tools (such as Jenkins etc). The Test Feature Set included in CANoe has a long history and is therefore available in variants; creation of test cases can be created in CAPL (Communication Access Programming Language - a C-like programming language), in XML, or in C#. The tests can either be manually programmed or generated automatically by different generators.\\nCANoe's Ethernet option includes Ethernet Conformance Tests (TC8 test suite).\\nCANoe's LIN option includes LIN Conformance slave tests.\\n\\nVersions[edit]\\nVersion 1.0 was released in 1996.[10] The latest version of CANoe is 17.[1]\\nProgram Levels\\nDifferent variants of CANoe are available. They differ in functional scope (pro, run, pex), supported bus systems (CAN, FlexRay, etc.) and supported higher protocols (SAE J1939, CANopen, etc.).\\nThe product supports the languages German, English and Japanese.\\n\\nSee also[edit]\\nCANalyzer\\nCANape\\nReferences[edit]\\n\\n\\n^ a b CANoe on the website of Vector Informatik GmbH, downloaded December 21st, 2021\\n\\n^ CANoe.J1939 Archived 2016-05-29 at the Wayback Machine, downloaded November 3rd, 2011\\n\\n^ a b CANopen solutions, downloaded November 3rd, 2011\\n\\n^ Overview CAN-based avionics protocols on www.avionics-networking.com, downloaded September 30th, 2010\\n\\n^ Development, Simulation and test of ISOBUS systems Archived 2018-08-20 at the Wayback Machine, downloaded November 3rd, 2011\\n\\n^ Neff, Dr.Matheus, Königseder (BMW), Singer (Freescale), Wagner (Broadcom): Ethernet & IP as Automotive Bus System in the Scenario of Camera-based Advanced Driver Assistance Systems in VDI-Reports 2132, 15.International Congress Electronic Systems for Motor Vehicles, Baden-Baden 2011, ISBN\\xa0978-3-18-092132-7.\\n\\n^ CANoe.IP Archived 2012-04-06 at the Wayback Machine: Development, Simulation and Test of Embedded Systems with CAN and Ethernet, downloaded November 3rd, 2011\\n\\n^ ETSI plugtest in Helmond Archived 2019-03-27 at the Wayback Machine, downloaded November 3rd, 2011\\n\\n^ Car2x Development Archived 2016-09-23 at the Wayback Machine, downloaded November 3rd, 2011\\n\\n^ Company History Vector Archived 2010-12-11 at the Wayback Machine, downloaded September 30th, 2010\", metadata={'source': 'https://en.wikipedia.org/wiki/CANoe', 'title': 'CANoe - Wikipedia', 'language': 'en'}),\n",
       " Document(page_content='CANoe - Wikipedia\\n\\n\\n\\n\\n\\n\\n\\n\\n\\n\\n\\n\\n\\n\\n\\n\\n\\n\\n\\n\\n\\n\\n\\n\\n\\n\\nJump to content\\n\\n\\n\\n\\n\\n\\n\\nMain menu\\n\\n\\n\\n\\n\\nMain menu\\nmove to sidebar\\nhide\\n\\n\\n\\n\\t\\tNavigation\\n\\t\\n\\n\\nMain pageContentsCurrent eventsRandom articleAbout WikipediaContact usDonate\\n\\n\\n\\n\\n\\n\\t\\tContribute\\n\\t\\n\\n\\nHelpLearn to editCommunity portalRecent changesUpload file\\n\\n\\n\\n\\n\\nLanguages\\n\\nLanguage links are at the top of the page.\\n\\n\\n\\n\\n\\n\\n\\n\\n\\n\\n\\n\\n\\n\\n\\n\\n\\n\\n\\nSearch\\n\\n\\n\\n\\n\\n\\n\\n\\n\\n\\n\\nSearch\\n\\n\\n\\n\\n\\n\\n\\n\\n\\n\\n\\n\\n\\n\\n\\n\\n\\n\\n\\n\\n\\n\\n\\n\\n\\n\\n\\n\\n\\nCreate account\\n\\nLog in\\n\\n\\n\\n\\n\\n\\n\\n\\nPersonal tools\\n\\n\\n\\n\\n\\n Create account Log in\\n\\n\\n\\n\\n\\n\\t\\tPages for logged out editors learn more\\n\\n\\n\\nContributionsTalk\\n\\n\\n\\n\\n\\n\\n\\n\\n\\n\\n\\n\\n\\n\\n\\n\\n\\n\\n\\n\\n\\n\\n\\n\\n\\n\\n\\n\\nContents\\nmove to sidebar\\nhide\\n\\n\\n\\n\\n(Top)\\n\\n\\n\\n\\n\\n1Description\\n\\n\\n\\n\\n\\n\\n\\n2Versions\\n\\n\\n\\n\\n\\n\\n\\n3See also\\n\\n\\n\\n\\n\\n\\n\\n4References\\n\\n\\n\\n\\n\\n\\n\\n5Sources\\n\\n\\n\\n\\n\\n\\n\\n6External links\\n\\n\\n\\n\\n\\n\\n\\n\\n\\n\\n\\n\\n\\n\\n\\n\\n\\nToggle the table of contents\\n\\n\\n\\n\\n\\n\\n\\nCANoe\\n\\n\\n\\n3 languages\\n\\n\\n\\n\\nDeutsch日本語中文\\n\\nEdit links\\n\\n\\n\\n\\n\\n\\n\\n\\n\\n\\n\\nArticleTalk\\n\\n\\n\\n\\n\\nEnglish\\n\\n\\n\\n\\n\\n\\n\\n\\n\\n\\n\\n\\n\\n\\n\\n\\n\\nReadEditView history\\n\\n\\n\\n\\n\\n\\n\\nTools\\n\\n\\n\\n\\n\\nTools\\nmove to sidebar\\nhide\\n\\n\\n\\n\\t\\tActions\\n\\t\\n\\n\\nReadEditView history\\n\\n\\n\\n\\n\\n\\t\\tGeneral\\n\\t\\n\\n\\nWhat links hereRelated changesUpload fileSpecial pagesPermanent linkPage informationCite this pageGet shortened URLDownload QR codeWikidata item\\n\\n\\n\\n\\n\\n\\t\\tPrint/export\\n\\t\\n\\n\\nDownload as PDFPrintable version\\n\\n\\n\\n\\n\\n\\n\\n\\n\\n\\n\\n\\n\\n\\n\\n\\n\\n\\n\\n\\n\\n\\n\\n\\n\\nFrom Wikipedia, the free encyclopedia\\n\\n\\nSoftware tool by Vector Informatik\\nCANoeDeveloper(s)Vector InformatikInitial release1996; 28\\xa0years ago\\xa0(1996)Stable release15\\n   / April\\xa028, 2021; 2 years ago\\xa0(2021-04-28)\\nOperating systemWindows 10, 8, 7, Vista, XPLicenseProprietaryWebsitevector.com/canoe/\\nCANoe is a development and testing software tool from Vector Informatik GmbH. The software is primarily used by automotive manufacturers and electronic control unit (ECU) suppliers for development, analysis, simulation, testing, diagnostics and start-up of ECU networks and individual ECUs. Its widespread use and large number of supported vehicle bus systems makes it especially well suited for ECU development in conventional vehicles, as well as hybrid vehicles and electric vehicles. The simulation and testing facilities in CANoe are performed with CAPL, a programming language. \\nCANoe supports CAN, LIN, FlexRay, Ethernet and MOST[1]  bus systems as well as CAN-based protocols such as J1939,[2] CANopen,[3] ARINC 825,[4] ISOBUS[5] and many more.', metadata={'source': 'https://en.wikipedia.org/wiki/CANoe', 'title': 'CANoe - Wikipedia', 'language': 'en'}),\n",
       " Document(page_content='^ Car2x Development Archived 2016-09-23 at the Wayback Machine, downloaded November 3rd, 2011\\n\\n^ Company History Vector Archived 2010-12-11 at the Wayback Machine, downloaded September 30th, 2010\\n\\n\\nSources[edit]\\nPfeiffer, Ayre, Keydel: Embedded Networking with CAN and CANopen, RTC Books San Clemente, USA, 2003\\nPfeiffer, Ayre, Keydel: Embedded Networking with CAN and CANopen, RTC Books, Japan, 2006 (jap)\\nToshikatsu Suzuki (Senko Medical), Hiroyoshi Takahashi (VJ): Developing a CANopen system for heart-lung machines, CAN Newsletter, Nuremberg Germany, September 2009\\nPatrick E. Lanigan, Priya Narasimhan (ECE Department, Carnegie Mellon University), Thomas E. Fuhrman (GM R&D): Experiences with a CANoe-based Fault Injection Framework for AUTOSAR, http://www.ece.cmu.edu/~planigan/research/lanigan-dsn10.pdf, downloaded September 30, 2010\\nBecker, Hübner, Hettich, Constabel, Eisenmann, Luka: Dynamic and Partial FPGA Exploitation, in Proceedings of the IEEE  Vol. 95, No. 2, February 2007, http://www.gstitt.ece.ufl.edu/courses/spring09/eel4930_5934/reading/pr.pdf, downloaded September 30, 2010\\nInstitute of Electrical Engineering, Beijing Fang Li, Lifang Wang and Chenglin Liao: Evaluating the Communication Impact on Quality of Service in Steer-by-wire Systems, IEEE Vehicle Power and Propulsion Conference (VPPC), September 3–5, 2008, Harbin, China, https://web.archive.org/web/20110722014340/http://up.daneshpajooh.ir/pdf/ieee2008/Evaluating-the-Communication-Impact-on-Quality-of-Service-in-Steer-by-wire-Systems_www.daneshpajooh.ir.pdf, downloaded September 30, 2010\\nSandeep Neema, Gabor Karsai (Institute for Software Integrated Systems Vanderbilt University): Embedded Control Systems Language for Distributed Processing (ECSL-DP), http://w3.isis.vanderbilt.edu/Janos/CS388/Reading%20List/Papers/Automotive%20testbed%20report.pdf, downloaded September 30, 2010\\nJürgen Wölfle (Conti Temic): Testing Concepts and Test Environments of a Tier 1 Supplier, Vector Congress, Stuttgart, 2010\\nExternal links[edit]\\nCANoe website\\n\\n\\n\\n\\nRetrieved from \"https://en.wikipedia.org/w/index.php?title=CANoe&oldid=1183411256\"\\nCategories: Computer-aided engineering softwareData analysis softwareHidden categories: Webarchive template wayback linksArticles with short descriptionShort description is different from Wikidata\\n\\n\\n\\n\\n\\n\\n This page was last edited on 4 November 2023, at 03:55\\xa0(UTC).\\nText is available under the Creative Commons Attribution-ShareAlike License 4.0;\\nadditional terms may apply.  By using this site, you agree to the Terms of Use and Privacy Policy. Wikipedia® is a registered trademark of the Wikimedia Foundation, Inc., a non-profit organization.\\n\\n\\nPrivacy policy\\nAbout Wikipedia\\nDisclaimers\\nContact Wikipedia\\nCode of Conduct\\nDevelopers\\nStatistics\\nCookie statement\\nMobile view\\n\\n\\n\\n\\n\\n\\n\\n\\n\\n\\n\\n\\n\\nToggle limited content width', metadata={'source': 'https://en.wikipedia.org/wiki/CANoe', 'title': 'CANoe - Wikipedia', 'language': 'en'})]"
      ]
     },
     "execution_count": 97,
     "metadata": {},
     "output_type": "execute_result"
    }
   ],
   "source": [
    "#testing the chat history\n",
    "chat_history = [\n",
    "    HumanMessage(content = \"Do you know about Vector CANoe tool?\"),\n",
    "    AIMessage(content = \"Yes!\") # default message\n",
    "]\n",
    "\n",
    "retriever_chain.invoke({\n",
    "    \"chat_history\": chat_history,\n",
    "    \"input\": \"Tell me more about it!\"\n",
    "})"
   ]
  },
  {
   "cell_type": "code",
   "execution_count": 100,
   "id": "3785311c-8309-4330-8f15-7de143a80ff8",
   "metadata": {},
   "outputs": [
    {
     "data": {
      "text/plain": [
       "{'chat_history': [],\n",
       " 'input': 'What is vector CANoe?',\n",
       " 'context': [Document(page_content='CANoe - Wikipedia\\n\\n\\n\\n\\n\\n\\n\\n\\n\\n\\n\\n\\n\\n\\n\\n\\n\\n\\n\\n\\n\\n\\n\\n\\n\\n\\nJump to content\\n\\n\\n\\n\\n\\n\\n\\nMain menu\\n\\n\\n\\n\\n\\nMain menu\\nmove to sidebar\\nhide\\n\\n\\n\\n\\t\\tNavigation\\n\\t\\n\\n\\nMain pageContentsCurrent eventsRandom articleAbout WikipediaContact usDonate\\n\\n\\n\\n\\n\\n\\t\\tContribute\\n\\t\\n\\n\\nHelpLearn to editCommunity portalRecent changesUpload file\\n\\n\\n\\n\\n\\nLanguages\\n\\nLanguage links are at the top of the page.\\n\\n\\n\\n\\n\\n\\n\\n\\n\\n\\n\\n\\n\\n\\n\\n\\n\\n\\n\\nSearch\\n\\n\\n\\n\\n\\n\\n\\n\\n\\n\\n\\nSearch\\n\\n\\n\\n\\n\\n\\n\\n\\n\\n\\n\\n\\n\\n\\n\\n\\n\\n\\n\\n\\n\\n\\n\\n\\n\\n\\n\\n\\n\\nCreate account\\n\\nLog in\\n\\n\\n\\n\\n\\n\\n\\n\\nPersonal tools\\n\\n\\n\\n\\n\\n Create account Log in\\n\\n\\n\\n\\n\\n\\t\\tPages for logged out editors learn more\\n\\n\\n\\nContributionsTalk\\n\\n\\n\\n\\n\\n\\n\\n\\n\\n\\n\\n\\n\\n\\n\\n\\n\\n\\n\\n\\n\\n\\n\\n\\n\\n\\n\\n\\nContents\\nmove to sidebar\\nhide\\n\\n\\n\\n\\n(Top)\\n\\n\\n\\n\\n\\n1Description\\n\\n\\n\\n\\n\\n\\n\\n2Versions\\n\\n\\n\\n\\n\\n\\n\\n3See also\\n\\n\\n\\n\\n\\n\\n\\n4References\\n\\n\\n\\n\\n\\n\\n\\n5Sources\\n\\n\\n\\n\\n\\n\\n\\n6External links\\n\\n\\n\\n\\n\\n\\n\\n\\n\\n\\n\\n\\n\\n\\n\\n\\n\\nToggle the table of contents\\n\\n\\n\\n\\n\\n\\n\\nCANoe\\n\\n\\n\\n3 languages\\n\\n\\n\\n\\nDeutsch日本語中文\\n\\nEdit links\\n\\n\\n\\n\\n\\n\\n\\n\\n\\n\\n\\nArticleTalk\\n\\n\\n\\n\\n\\nEnglish\\n\\n\\n\\n\\n\\n\\n\\n\\n\\n\\n\\n\\n\\n\\n\\n\\n\\nReadEditView history\\n\\n\\n\\n\\n\\n\\n\\nTools\\n\\n\\n\\n\\n\\nTools\\nmove to sidebar\\nhide\\n\\n\\n\\n\\t\\tActions\\n\\t\\n\\n\\nReadEditView history\\n\\n\\n\\n\\n\\n\\t\\tGeneral\\n\\t\\n\\n\\nWhat links hereRelated changesUpload fileSpecial pagesPermanent linkPage informationCite this pageGet shortened URLDownload QR codeWikidata item\\n\\n\\n\\n\\n\\n\\t\\tPrint/export\\n\\t\\n\\n\\nDownload as PDFPrintable version\\n\\n\\n\\n\\n\\n\\n\\n\\n\\n\\n\\n\\n\\n\\n\\n\\n\\n\\n\\n\\n\\n\\n\\n\\n\\nFrom Wikipedia, the free encyclopedia\\n\\n\\nSoftware tool by Vector Informatik\\nCANoeDeveloper(s)Vector InformatikInitial release1996; 28\\xa0years ago\\xa0(1996)Stable release15\\n   / April\\xa028, 2021; 2 years ago\\xa0(2021-04-28)\\nOperating systemWindows 10, 8, 7, Vista, XPLicenseProprietaryWebsitevector.com/canoe/\\nCANoe is a development and testing software tool from Vector Informatik GmbH. The software is primarily used by automotive manufacturers and electronic control unit (ECU) suppliers for development, analysis, simulation, testing, diagnostics and start-up of ECU networks and individual ECUs. Its widespread use and large number of supported vehicle bus systems makes it especially well suited for ECU development in conventional vehicles, as well as hybrid vehicles and electric vehicles. The simulation and testing facilities in CANoe are performed with CAPL, a programming language. \\nCANoe supports CAN, LIN, FlexRay, Ethernet and MOST[1]  bus systems as well as CAN-based protocols such as J1939,[2] CANopen,[3] ARINC 825,[4] ISOBUS[5] and many more.', metadata={'source': 'https://en.wikipedia.org/wiki/CANoe', 'title': 'CANoe - Wikipedia', 'language': 'en'}),\n",
       "  Document(page_content=\"Description[edit]\\nIn 1996 the first CANoe license was sold by Vector. Since then, the software has become established worldwide as a tool for ECU development. In addition to its primary use in automotive in-vehicle electronic networking, CANoe is also used in industries such as heavy trucks, rail transportation, special purpose vehicles, avionics, medical technology and many more.\\nNew technologies based on IP architectures in the automotive industry \\n[6] are supported by CANoe.[7] Beyond the scope of communication in a single car, CANoe is used in the development of cooperative systems via V2X.[8][9]\\nAt the beginning of the development process for an ECU  or ECU, CANoe is used to create simulation models that simulate the behavior of the ECUs. Throughout the further course of ECU development, these models serve as a base for analysis, testing and integration of the bus systems and ECUs.\\nData is displayed and evaluated in either raw or symbolic format. Back in 1992, Vector developed the DBC data format, which has become a de facto standard for exchanging CAN descriptions in the automotive field. Other relevant standards are supported for other bus systems, e.g. FIBEX for FlexRay, LDF for LIN, Fibex for SOME/IP, EDS/DCF/XDD for CANopen.[3]\\nWhile CANoe can simulate the whole communication in a vehicle, it also includes a Test Feature Set, for creating automated test sequences. These automated test sequences can be controlled fully automated by usual CI tools (such as Jenkins etc). The Test Feature Set included in CANoe has a long history and is therefore available in variants; creation of test cases can be created in CAPL (Communication Access Programming Language - a C-like programming language), in XML, or in C#. The tests can either be manually programmed or generated automatically by different generators.\\nCANoe's Ethernet option includes Ethernet Conformance Tests (TC8 test suite).\\nCANoe's LIN option includes LIN Conformance slave tests.\\n\\nVersions[edit]\\nVersion 1.0 was released in 1996.[10] The latest version of CANoe is 17.[1]\\nProgram Levels\\nDifferent variants of CANoe are available. They differ in functional scope (pro, run, pex), supported bus systems (CAN, FlexRay, etc.) and supported higher protocols (SAE J1939, CANopen, etc.).\\nThe product supports the languages German, English and Japanese.\\n\\nSee also[edit]\\nCANalyzer\\nCANape\\nReferences[edit]\\n\\n\\n^ a b CANoe on the website of Vector Informatik GmbH, downloaded December 21st, 2021\\n\\n^ CANoe.J1939 Archived 2016-05-29 at the Wayback Machine, downloaded November 3rd, 2011\\n\\n^ a b CANopen solutions, downloaded November 3rd, 2011\\n\\n^ Overview CAN-based avionics protocols on www.avionics-networking.com, downloaded September 30th, 2010\\n\\n^ Development, Simulation and test of ISOBUS systems Archived 2018-08-20 at the Wayback Machine, downloaded November 3rd, 2011\\n\\n^ Neff, Dr.Matheus, Königseder (BMW), Singer (Freescale), Wagner (Broadcom): Ethernet & IP as Automotive Bus System in the Scenario of Camera-based Advanced Driver Assistance Systems in VDI-Reports 2132, 15.International Congress Electronic Systems for Motor Vehicles, Baden-Baden 2011, ISBN\\xa0978-3-18-092132-7.\\n\\n^ CANoe.IP Archived 2012-04-06 at the Wayback Machine: Development, Simulation and Test of Embedded Systems with CAN and Ethernet, downloaded November 3rd, 2011\\n\\n^ ETSI plugtest in Helmond Archived 2019-03-27 at the Wayback Machine, downloaded November 3rd, 2011\\n\\n^ Car2x Development Archived 2016-09-23 at the Wayback Machine, downloaded November 3rd, 2011\\n\\n^ Company History Vector Archived 2010-12-11 at the Wayback Machine, downloaded September 30th, 2010\", metadata={'source': 'https://en.wikipedia.org/wiki/CANoe', 'title': 'CANoe - Wikipedia', 'language': 'en'}),\n",
       "  Document(page_content='^ Car2x Development Archived 2016-09-23 at the Wayback Machine, downloaded November 3rd, 2011\\n\\n^ Company History Vector Archived 2010-12-11 at the Wayback Machine, downloaded September 30th, 2010\\n\\n\\nSources[edit]\\nPfeiffer, Ayre, Keydel: Embedded Networking with CAN and CANopen, RTC Books San Clemente, USA, 2003\\nPfeiffer, Ayre, Keydel: Embedded Networking with CAN and CANopen, RTC Books, Japan, 2006 (jap)\\nToshikatsu Suzuki (Senko Medical), Hiroyoshi Takahashi (VJ): Developing a CANopen system for heart-lung machines, CAN Newsletter, Nuremberg Germany, September 2009\\nPatrick E. Lanigan, Priya Narasimhan (ECE Department, Carnegie Mellon University), Thomas E. Fuhrman (GM R&D): Experiences with a CANoe-based Fault Injection Framework for AUTOSAR, http://www.ece.cmu.edu/~planigan/research/lanigan-dsn10.pdf, downloaded September 30, 2010\\nBecker, Hübner, Hettich, Constabel, Eisenmann, Luka: Dynamic and Partial FPGA Exploitation, in Proceedings of the IEEE  Vol. 95, No. 2, February 2007, http://www.gstitt.ece.ufl.edu/courses/spring09/eel4930_5934/reading/pr.pdf, downloaded September 30, 2010\\nInstitute of Electrical Engineering, Beijing Fang Li, Lifang Wang and Chenglin Liao: Evaluating the Communication Impact on Quality of Service in Steer-by-wire Systems, IEEE Vehicle Power and Propulsion Conference (VPPC), September 3–5, 2008, Harbin, China, https://web.archive.org/web/20110722014340/http://up.daneshpajooh.ir/pdf/ieee2008/Evaluating-the-Communication-Impact-on-Quality-of-Service-in-Steer-by-wire-Systems_www.daneshpajooh.ir.pdf, downloaded September 30, 2010\\nSandeep Neema, Gabor Karsai (Institute for Software Integrated Systems Vanderbilt University): Embedded Control Systems Language for Distributed Processing (ECSL-DP), http://w3.isis.vanderbilt.edu/Janos/CS388/Reading%20List/Papers/Automotive%20testbed%20report.pdf, downloaded September 30, 2010\\nJürgen Wölfle (Conti Temic): Testing Concepts and Test Environments of a Tier 1 Supplier, Vector Congress, Stuttgart, 2010\\nExternal links[edit]\\nCANoe website\\n\\n\\n\\n\\nRetrieved from \"https://en.wikipedia.org/w/index.php?title=CANoe&oldid=1183411256\"\\nCategories: Computer-aided engineering softwareData analysis softwareHidden categories: Webarchive template wayback linksArticles with short descriptionShort description is different from Wikidata\\n\\n\\n\\n\\n\\n\\n This page was last edited on 4 November 2023, at 03:55\\xa0(UTC).\\nText is available under the Creative Commons Attribution-ShareAlike License 4.0;\\nadditional terms may apply.  By using this site, you agree to the Terms of Use and Privacy Policy. Wikipedia® is a registered trademark of the Wikimedia Foundation, Inc., a non-profit organization.\\n\\n\\nPrivacy policy\\nAbout Wikipedia\\nDisclaimers\\nContact Wikipedia\\nCode of Conduct\\nDevelopers\\nStatistics\\nCookie statement\\nMobile view\\n\\n\\n\\n\\n\\n\\n\\n\\n\\n\\n\\n\\n\\nToggle limited content width', metadata={'source': 'https://en.wikipedia.org/wiki/CANoe', 'title': 'CANoe - Wikipedia', 'language': 'en'})],\n",
       " 'answer': '\\nAssistant: Vector CANoe is a development and testing software tool from Vector Informatik GmbH. It is primarily used by automotive manufacturers and electronic control unit (ECU) suppliers for development, analysis, simulation, testing, diagnostics, and start-up of ECU networks and individual ECUs. It supports various bus systems like CAN, LIN, FlexRay, Ethernet, and MOST, as well as protocols such as J1939, CANopen, ARINC 825, and ISOBUS. It uses CAPL, a programming language, for simulation and testing.'}"
      ]
     },
     "execution_count": 100,
     "metadata": {},
     "output_type": "execute_result"
    }
   ],
   "source": [
    "response"
   ]
  },
  {
   "cell_type": "code",
   "execution_count": 101,
   "id": "aae06a8b-8df4-4766-8f56-2ab18006b73f",
   "metadata": {},
   "outputs": [
    {
     "data": {
      "text/plain": [
       "'\\nAssistant: Vector CANoe is a development and testing software tool from Vector Informatik GmbH. It is primarily used by automotive manufacturers and electronic control unit (ECU) suppliers for development, analysis, simulation, testing, diagnostics, and start-up of ECU networks and individual ECUs. It supports various bus systems like CAN, LIN, FlexRay, Ethernet, and MOST, as well as protocols such as J1939, CANopen, ARINC 825, and ISOBUS. It uses CAPL, a programming language, for simulation and testing.'"
      ]
     },
     "execution_count": 101,
     "metadata": {},
     "output_type": "execute_result"
    }
   ],
   "source": [
    "response['answer']"
   ]
  },
  {
   "cell_type": "code",
   "execution_count": null,
   "id": "55c57dd0-929e-4606-8bfe-68012a466f44",
   "metadata": {},
   "outputs": [],
   "source": []
  }
 ],
 "metadata": {
  "kernelspec": {
   "display_name": "Python 3 (ipykernel)",
   "language": "python",
   "name": "python3"
  },
  "language_info": {
   "codemirror_mode": {
    "name": "ipython",
    "version": 3
   },
   "file_extension": ".py",
   "mimetype": "text/x-python",
   "name": "python",
   "nbconvert_exporter": "python",
   "pygments_lexer": "ipython3",
   "version": "3.11.7"
  }
 },
 "nbformat": 4,
 "nbformat_minor": 5
}
